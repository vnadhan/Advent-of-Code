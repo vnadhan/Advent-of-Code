{
 "cells": [
  {
   "cell_type": "code",
   "execution_count": 27,
   "metadata": {},
   "outputs": [
    {
     "name": "stdout",
     "output_type": "stream",
     "text": [
      "71961\n"
     ]
    }
   ],
   "source": [
    "import numpy as np\n",
    "\n",
    "with open(\"input.txt\") as f:\n",
    "    content = f.readlines()\n",
    "    result = 0\n",
    "    reached_max_count = False\n",
    "    num_with_twice_count = 0\n",
    "    counts = {0: 1} # can also use a simple list\n",
    "    \n",
    "    while not reached_max_count:\n",
    "        for i in content:\n",
    "            result += int(i)\n",
    "            if(result in counts):\n",
    "                counts[result] += 1\n",
    "                reached_max_count = True\n",
    "                num_with_twice_count = result\n",
    "                break\n",
    "            else:\n",
    "                counts[result] = 1\n",
    "        \n",
    "    print(twice_count)"
   ]
  }
 ],
 "metadata": {
  "kernelspec": {
   "display_name": "Python 3",
   "language": "python",
   "name": "python3"
  },
  "language_info": {
   "codemirror_mode": {
    "name": "ipython",
    "version": 3
   },
   "file_extension": ".py",
   "mimetype": "text/x-python",
   "name": "python",
   "nbconvert_exporter": "python",
   "pygments_lexer": "ipython3",
   "version": "3.6.6"
  }
 },
 "nbformat": 4,
 "nbformat_minor": 2
}
